{
 "cells": [
  {
   "cell_type": "code",
   "execution_count": 1,
   "id": "bd0d16d6",
   "metadata": {},
   "outputs": [
    {
     "name": "stdout",
     "output_type": "stream",
     "text": [
      "11_7_downloading.ipynb\tABgenomesToDownload.txt  EC_filtered_genomes.txt\r\n"
     ]
    }
   ],
   "source": [
    "# checking the directory for the uploaded genomes\n",
    "!ls"
   ]
  },
  {
   "cell_type": "code",
   "execution_count": 2,
   "id": "be6a8cb6",
   "metadata": {},
   "outputs": [
    {
     "name": "stdout",
     "output_type": "stream",
     "text": [
      "/bin/bash: datasets: command not found\r\n"
     ]
    }
   ],
   "source": [
    "# downloading datasets \n",
    "# datasets download genome accession --inputfile ABgenomesToDownload.txt --include gff3,gbff,rna,cds,protein,genome,seq-report\n"
   ]
  },
  {
   "cell_type": "code",
   "execution_count": null,
   "id": "789bf796",
   "metadata": {},
   "outputs": [],
   "source": [
    "#______ Notes______\n",
    "\n",
    "# Run FastANI pairwise (every genome against every other genome)\n",
    "# to compute whole-genome Average Nucleotide Identity (ANI) -- so how similar genomes are to each other\n",
    "\n",
    "# Then use Bakta to annotate the genomes\n",
    "# will be running it in batches so its multi core\n",
    "\n",
    "# Then we will run panaroo to do presence/absence features"
   ]
  }
 ],
 "metadata": {
  "kernelspec": {
   "display_name": "Python 3",
   "language": "python",
   "name": "python3"
  },
  "language_info": {
   "codemirror_mode": {
    "name": "ipython",
    "version": 3
   },
   "file_extension": ".py",
   "mimetype": "text/x-python",
   "name": "python",
   "nbconvert_exporter": "python",
   "pygments_lexer": "ipython3",
   "version": "3.8.8"
  }
 },
 "nbformat": 4,
 "nbformat_minor": 5
}
